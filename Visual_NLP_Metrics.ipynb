{
 "cells": [
  {
   "cell_type": "code",
   "execution_count": 1,
   "metadata": {
    "colab": {
     "base_uri": "https://localhost:8080/"
    },
    "collapsed": true,
    "id": "cJyQsZkgGUdY",
    "jupyter": {
     "outputs_hidden": true
    },
    "outputId": "88970315-3ab8-49d4-8563-a9dfc6cf180f"
   },
   "outputs": [
    {
     "name": "stdout",
     "output_type": "stream",
     "text": [
      "\u001b[2K     \u001b[90m━━━━━━━━━━━━━━━━━━━━━━━━━━━━━━━━━━━━━━━━\u001b[0m \u001b[32m45.7/45.7 MB\u001b[0m \u001b[31m15.2 MB/s\u001b[0m eta \u001b[36m0:00:00\u001b[0m\n",
      "\u001b[2K     \u001b[90m━━━━━━━━━━━━━━━━━━━━━━━━━━━━━━━━━━━━━━━\u001b[0m \u001b[32m316.9/316.9 MB\u001b[0m \u001b[31m3.3 MB/s\u001b[0m eta \u001b[36m0:00:00\u001b[0m\n",
      "\u001b[?25h  Preparing metadata (setup.py) ... \u001b[?25l\u001b[?25hdone\n",
      "\u001b[2K   \u001b[90m━━━━━━━━━━━━━━━━━━━━━━━━━━━━━━━━━━━━━━━━\u001b[0m \u001b[32m635.7/635.7 kB\u001b[0m \u001b[31m37.2 MB/s\u001b[0m eta \u001b[36m0:00:00\u001b[0m\n",
      "\u001b[2K   \u001b[90m━━━━━━━━━━━━━━━━━━━━━━━━━━━━━━━━━━━━━━━━\u001b[0m \u001b[32m3.4/3.4 MB\u001b[0m \u001b[31m69.8 MB/s\u001b[0m eta \u001b[36m0:00:00\u001b[0m\n",
      "\u001b[2K   \u001b[90m━━━━━━━━━━━━━━━━━━━━━━━━━━━━━━━━━━━━━━━━\u001b[0m \u001b[32m14.9/14.9 MB\u001b[0m \u001b[31m99.8 MB/s\u001b[0m eta \u001b[36m0:00:00\u001b[0m\n",
      "\u001b[2K   \u001b[90m━━━━━━━━━━━━━━━━━━━━━━━━━━━━━━━━━━━━━━━━\u001b[0m \u001b[32m363.4/363.4 MB\u001b[0m \u001b[31m2.5 MB/s\u001b[0m eta \u001b[36m0:00:00\u001b[0m\n",
      "\u001b[2K   \u001b[90m━━━━━━━━━━━━━━━━━━━━━━━━━━━━━━━━━━━━━━━━\u001b[0m \u001b[32m13.8/13.8 MB\u001b[0m \u001b[31m128.8 MB/s\u001b[0m eta \u001b[36m0:00:00\u001b[0m\n",
      "\u001b[2K   \u001b[90m━━━━━━━━━━━━━━━━━━━━━━━━━━━━━━━━━━━━━━━━\u001b[0m \u001b[32m24.6/24.6 MB\u001b[0m \u001b[31m99.8 MB/s\u001b[0m eta \u001b[36m0:00:00\u001b[0m\n",
      "\u001b[2K   \u001b[90m━━━━━━━━━━━━━━━━━━━━━━━━━━━━━━━━━━━━━━━━\u001b[0m \u001b[32m883.7/883.7 kB\u001b[0m \u001b[31m51.5 MB/s\u001b[0m eta \u001b[36m0:00:00\u001b[0m\n",
      "\u001b[2K   \u001b[90m━━━━━━━━━━━━━━━━━━━━━━━━━━━━━━━━━━━━━━━━\u001b[0m \u001b[32m664.8/664.8 MB\u001b[0m \u001b[31m1.4 MB/s\u001b[0m eta \u001b[36m0:00:00\u001b[0m\n",
      "\u001b[2K   \u001b[90m━━━━━━━━━━━━━━━━━━━━━━━━━━━━━━━━━━━━━━━━\u001b[0m \u001b[32m211.5/211.5 MB\u001b[0m \u001b[31m10.4 MB/s\u001b[0m eta \u001b[36m0:00:00\u001b[0m\n",
      "\u001b[2K   \u001b[90m━━━━━━━━━━━━━━━━━━━━━━━━━━━━━━━━━━━━━━━━\u001b[0m \u001b[32m56.3/56.3 MB\u001b[0m \u001b[31m39.9 MB/s\u001b[0m eta \u001b[36m0:00:00\u001b[0m\n",
      "\u001b[2K   \u001b[90m━━━━━━━━━━━━━━━━━━━━━━━━━━━━━━━━━━━━━━━━\u001b[0m \u001b[32m127.9/127.9 MB\u001b[0m \u001b[31m5.6 MB/s\u001b[0m eta \u001b[36m0:00:00\u001b[0m\n",
      "\u001b[2K   \u001b[90m━━━━━━━━━━━━━━━━━━━━━━━━━━━━━━━━━━━━━━━━\u001b[0m \u001b[32m207.5/207.5 MB\u001b[0m \u001b[31m10.7 MB/s\u001b[0m eta \u001b[36m0:00:00\u001b[0m\n",
      "\u001b[2K   \u001b[90m━━━━━━━━━━━━━━━━━━━━━━━━━━━━━━━━━━━━━━━━\u001b[0m \u001b[32m21.1/21.1 MB\u001b[0m \u001b[31m96.1 MB/s\u001b[0m eta \u001b[36m0:00:00\u001b[0m\n",
      "\u001b[?25h  Building wheel for pyspark (setup.py) ... \u001b[?25l\u001b[?25hdone\n"
     ]
    }
   ],
   "source": [
    "!pip install --upgrade -q https://pypi.johnsnowlabs.com/6.0.0rc2-xxxxxxxxxxxxx/spark-ocr/spark_ocr-6.0.0rc2-py3-none-any.whl"
   ]
  },
  {
   "cell_type": "code",
   "execution_count": 2,
   "metadata": {
    "colab": {
     "base_uri": "https://localhost:8080/"
    },
    "id": "ZUc-4GmALCPK",
    "outputId": "aa741a8f-f49f-42d2-c770-fe07a95a7265"
   },
   "outputs": [
    {
     "name": "stdout",
     "output_type": "stream",
     "text": [
      "\u001b[2K     \u001b[90m━━━━━━━━━━━━━━━━━━━━━━━━━━━━━━━━━━━━━\u001b[0m \u001b[32m546.6/546.6 kB\u001b[0m \u001b[31m576.9 kB/s\u001b[0m eta \u001b[36m0:00:00\u001b[0m\n",
      "\u001b[?25h"
     ]
    }
   ],
   "source": [
    "!pip install --upgrade -q https://pypi.johnsnowlabs.com/5.5.3.PR-2619.yyyyyyyyyyyyyyyyyy/spark-nlp-jsl/spark_nlp_jsl-5.5.3-py3-none-any.whl --force-reinstall\n",
    "!pip install -q spark-nlp==5.5.3\n",
    "!pip install -q pandas\n",
    "!pip install -q matplotlib"
   ]
  },
  {
   "cell_type": "code",
   "execution_count": 1,
   "metadata": {
    "id": "LEV3YzpBLGWY"
   },
   "outputs": [],
   "source": [
    "from sparkocr import start\n",
    "import os\n",
    "import json\n",
    "import time\n",
    "import shutil\n",
    "\n",
    "license = \"\"\n",
    "\n",
    "if license and \"json\" in license:\n",
    "\n",
    "    with open(license, \"r\") as creds_in:\n",
    "        creds = json.loads(creds_in.read())\n",
    "\n",
    "        for key in creds.keys():\n",
    "            os.environ[key] = creds[key]\n",
    "else:\n",
    "    raise Exception(\"License JSON File is not specified\")"
   ]
  },
  {
   "cell_type": "code",
   "execution_count": 2,
   "metadata": {
    "colab": {
     "base_uri": "https://localhost:8080/",
     "height": 306
    },
    "id": "J7Ateeg0LGYt",
    "outputId": "d9010567-aaf0-48aa-b9bc-2432b730a6de"
   },
   "outputs": [
    {
     "name": "stdout",
     "output_type": "stream",
     "text": [
      "Spark version: 3.5.0\n",
      "Spark NLP version: 5.5.3\n",
      "Spark NLP for Healthcare version: 5.5.3\n",
      "Spark OCR version: 6.0.0rc2\n",
      "\n"
     ]
    },
    {
     "data": {
      "text/html": [
       "\n",
       "            <div>\n",
       "                <p><b>SparkSession - in-memory</b></p>\n",
       "                \n",
       "        <div>\n",
       "            <p><b>SparkContext</b></p>\n",
       "\n",
       "            <p><a href=\"http://d6b045dcce2c:4040\">Spark UI</a></p>\n",
       "\n",
       "            <dl>\n",
       "              <dt>Version</dt>\n",
       "                <dd><code>v3.5.0</code></dd>\n",
       "              <dt>Master</dt>\n",
       "                <dd><code>local[*]</code></dd>\n",
       "              <dt>AppName</dt>\n",
       "                <dd><code>Spark OCR</code></dd>\n",
       "            </dl>\n",
       "        </div>\n",
       "        \n",
       "            </div>\n",
       "        "
      ],
      "text/plain": [
       "<pyspark.sql.session.SparkSession at 0x7a43c2a99110>"
      ]
     },
     "execution_count": 2,
     "metadata": {},
     "output_type": "execute_result"
    }
   ],
   "source": [
    "extra_configurations = {\n",
    "    \"spark.extraListeners\": \"com.johnsnowlabs.license.LicenseLifeCycleManager\",\n",
    "    \"spark.sql.legacy.allowUntypedScalaUDF\" : \"true\",\n",
    "    \"spark.driver.memory\": \"200g\"\n",
    "}\n",
    "\n",
    "spark = start(secret=\"6.0.0rc2-xxxxxxxxxxxxx\",\n",
    "              nlp_secret=\"5.5.3.PR-2619.yyyyyyyyyyyyyyyyyy\",\n",
    "              nlp_internal=True,\n",
    "              nlp_jsl=True,\n",
    "              nlp_version=\"5.5.3\",\n",
    "              extra_conf=extra_configurations)\n",
    "\n",
    "spark"
   ]
  },
  {
   "cell_type": "code",
   "execution_count": 3,
   "metadata": {
    "id": "4D4eAN7tLGbD"
   },
   "outputs": [],
   "source": [
    "import numpy as np\n",
    "import pandas as pd\n",
    "import os\n",
    "\n",
    "#Pyspark Imports\n",
    "from pyspark.sql import SparkSession\n",
    "from pyspark.ml import PipelineModel\n",
    "from pyspark.sql import functions as F\n",
    "\n",
    "# Necessary imports from Spark OCR library\n",
    "import sparkocr\n",
    "from sparkocr import start\n",
    "from sparkocr.transformers import *\n",
    "from sparkocr.enums import *\n",
    "from sparkocr.utils import display_images, to_pil_image, display_images_horizontal\n",
    "from sparkocr.metrics import score\n",
    "import pkg_resources\n",
    "\n",
    "# import sparknlp packages\n",
    "from sparknlp.annotator import *\n",
    "from sparknlp.base import *\n",
    "import sparknlp_jsl\n",
    "from sparknlp_jsl.annotator import *\n",
    "from collections import Counter\n",
    "from sparknlp.pretrained import PretrainedPipeline"
   ]
  },
  {
   "cell_type": "code",
   "execution_count": 22,
   "metadata": {
    "id": "oUa5X_n8VcPv"
   },
   "outputs": [],
   "source": [
    "def evaluate_predictions(SOURCE_GT_PATH, DF_SAVE_PATH, SAVE_MAPPING_PATH):\n",
    "\n",
    "    def calculate_metrics(preds, gts):\n",
    "      gt_counter = Counter(gts)\n",
    "      pred_counter = Counter(preds)\n",
    "\n",
    "      tp = 0\n",
    "      for item in pred_counter:\n",
    "          if item in gt_counter:\n",
    "              tp += min(pred_counter[item], gt_counter[item])\n",
    "\n",
    "      fp = sum(pred_counter.values()) - tp\n",
    "      fn = sum(gt_counter.values()) - tp\n",
    "\n",
    "      precision = tp / (tp + fp) if (tp + fp) else 0\n",
    "      recall = tp / (tp + fn) if (tp + fn) else 0\n",
    "\n",
    "      return precision, recall\n",
    "\n",
    "    with open(SOURCE_GT_PATH, \"r\") as f:\n",
    "        ground_truth = json.load(f)\n",
    "\n",
    "    df_predictions = spark.read.format(\"parquet\").load(DF_SAVE_PATH)\n",
    "\n",
    "    predictions_by_file = {}\n",
    "\n",
    "    for row in df_predictions.select(\"path\").distinct().toLocalIterator():\n",
    "        file_path = row.asDict()[\"path\"]\n",
    "        filename = os.path.basename(file_path)\n",
    "\n",
    "        if filename not in ground_truth:\n",
    "            continue\n",
    "\n",
    "        extracted_results = []\n",
    "        rows = df_predictions.filter(F.col(\"path\") == file_path).select(\"positions_ner\")\n",
    "\n",
    "        for r in rows.toLocalIterator():\n",
    "            for ner in r.asDict()[\"positions_ner\"]:\n",
    "                extracted_results.append(ner.asDict()[\"result\"])\n",
    "\n",
    "        predictions_by_file[filename] = extracted_results\n",
    "\n",
    "    summary = {}\n",
    "    all_precisions = []\n",
    "    all_recalls = []\n",
    "\n",
    "    for filename, predictions in predictions_by_file.items():\n",
    "        gt_values = ground_truth[filename]\n",
    "        precision, recall = calculate_metrics(predictions, gt_values)\n",
    "\n",
    "        all_precisions.append(precision)\n",
    "        all_recalls.append(recall)\n",
    "\n",
    "        summary[filename] = {\n",
    "            \"precision\": round(precision, 4),\n",
    "            \"recall\": round(recall, 4),\n",
    "            \"gt\": gt_values,\n",
    "            \"pred\": predictions\n",
    "        }\n",
    "\n",
    "        print(f\"Filename: {filename} | Precision: {precision:.4f} | Recall: {recall:.4f}\")\n",
    "\n",
    "    avg_precision = round(sum(all_precisions) / len(all_precisions), 4)\n",
    "    avg_recall = round(sum(all_recalls) / len(all_recalls), 4)\n",
    "    f1_score = round(2 * (avg_precision * avg_recall) / (avg_precision + avg_recall), 4)\n",
    "\n",
    "    print(f\"\\nOverall Precision: {avg_precision}\")\n",
    "    print(f\"Overall Recall: {avg_recall}\")\n",
    "    print(f\"F1 Score: {f1_score}\")\n",
    "\n",
    "    with open(SAVE_MAPPING_PATH, \"w\") as f:\n",
    "        json.dump(summary, f, indent=4)\n",
    "\n",
    "    print(f\"Mapping File Saved To : {SAVE_MAPPING_PATH}\")"
   ]
  },
  {
   "cell_type": "code",
   "execution_count": 5,
   "metadata": {
    "colab": {
     "base_uri": "https://localhost:8080/"
    },
    "id": "q4fYNmeHLGds",
    "outputId": "fc70f28d-07f0-49fb-f3e7-8b96c7ee77fb"
   },
   "outputs": [
    {
     "data": {
      "text/plain": [
       "{'HOSPITAL': 0.95,\n",
       " 'NAME': 0.95,\n",
       " 'DOCTOR': 0.95,\n",
       " 'PATIENT': 0.95,\n",
       " 'AGE': 0.95,\n",
       " 'ID': 0.95,\n",
       " 'MEDICALRECORD': 0.95,\n",
       " 'IDNUM': 0.95,\n",
       " 'COUNTRY': 0.95,\n",
       " 'LOCATION': 0.95,\n",
       " 'STREET': 0.95,\n",
       " 'STATE': 0.95,\n",
       " 'ZIP': 0.95,\n",
       " 'CONTACT': 0.95,\n",
       " 'PHONE': 0.95,\n",
       " 'DATE': 0.95}"
      ]
     },
     "execution_count": 5,
     "metadata": {},
     "output_type": "execute_result"
    }
   ],
   "source": [
    "ner_threshold = 0.95\n",
    "ocr_threshold = 70\n",
    "whitelist = ['HOSPITAL', 'NAME', 'DOCTOR', 'PATIENT', 'AGE', 'ID', 'MEDICALRECORD', 'IDNUM', 'COUNTRY', 'LOCATION', 'STREET', 'STATE', 'ZIP', 'CONTACT', 'PHONE', 'DATE']\n",
    "matcherWhitelist = {i : 0.95 for i in whitelist}\n",
    "matcherWhitelist"
   ]
  },
  {
   "cell_type": "code",
   "execution_count": 6,
   "metadata": {
    "colab": {
     "base_uri": "https://localhost:8080/"
    },
    "id": "24JuxA9NLGgA",
    "outputId": "ac1b6bc7-fe68-46af-af9a-a40a904ebaa9"
   },
   "outputs": [
    {
     "name": "stdout",
     "output_type": "stream",
     "text": [
      "embeddings_clinical download started this may take some time.\n",
      "Approximate size to download 1.6 GB\n",
      "[OK!]\n",
      "glove_100d download started this may take some time.\n",
      "Approximate size to download 145.3 MB\n",
      "[OK!]\n",
      "ner_deid_subentity_glove download started this may take some time.\n",
      "[OK!]\n",
      "ner_deid_generic_augmented download started this may take some time.\n",
      "[OK!]\n",
      "ner_deidentify_dl download started this may take some time.\n",
      "[OK!]\n",
      "ner_deid_enriched download started this may take some time.\n",
      "[OK!]\n"
     ]
    }
   ],
   "source": [
    "pdf_to_image = PdfToImage() \\\n",
    "    .setInputCol(\"content\") \\\n",
    "    .setOutputCol(\"image_raw\") \\\n",
    "    .setPageNumCol(\"pagenum\") \\\n",
    "    .setResolution(400) \\\n",
    "    .setSplitNumBatch(10) \\\n",
    "    .setKeepInput(False) \\\n",
    "    .setImageType(ImageType.TYPE_3BYTE_BGR)\n",
    "\n",
    "ocr = ImageToText() \\\n",
    "    .setInputCol(\"image_raw\") \\\n",
    "    .setOutputCol(\"text\") \\\n",
    "    .setIgnoreResolution(False) \\\n",
    "    .setPageIteratorLevel(PageIteratorLevel.SYMBOL) \\\n",
    "    .setPageSegMode(PageSegmentationMode.SPARSE_TEXT) \\\n",
    "    .setWithSpaces(True) \\\n",
    "    .setKeepLayout(False) \\\n",
    "    .setConfidenceThreshold(ocr_threshold)\n",
    "\n",
    "document_assembler = DocumentAssembler() \\\n",
    "    .setInputCol(\"text\") \\\n",
    "    .setOutputCol(\"document\") \\\n",
    "    .setCleanupMode(\"shrink_full\")\n",
    "\n",
    "sentence_detector = SentenceDetector() \\\n",
    "    .setInputCols([\"document\"]) \\\n",
    "    .setOutputCol(\"sentence\")\n",
    "\n",
    "tokenizer = Tokenizer() \\\n",
    "    .setInputCols([\"sentence\"]) \\\n",
    "    .setOutputCol(\"token\")\n",
    "\n",
    "word_embeddings = WordEmbeddingsModel.pretrained(\"embeddings_clinical\", \"en\", \"clinical/models\")\\\n",
    "    .setInputCols([\"sentence\", \"token\"])\\\n",
    "    .setOutputCol(\"embeddings\")\n",
    "\n",
    "glove_embeddings = WordEmbeddingsModel.pretrained('glove_100d') \\\n",
    "      .setInputCols(['sentence', 'token']) \\\n",
    "      .setOutputCol('glove_embeddings')\n",
    "\n",
    "ner_deid_subentity_glove_medical = MedicalNerModel.pretrained(\"ner_deid_subentity_glove\", \"en\", \"clinical/models\") \\\n",
    "      .setInputCols([\"sentence\", \"token\", \"glove_embeddings\"]) \\\n",
    "      .setOutputCol(\"ner_deid_subentity_glove_medical\")\n",
    "\n",
    "ner_deid_subentity_glove_converter = NerConverterInternalModel()\\\n",
    "    .setInputCols([\"sentence\", \"token\", \"ner_deid_subentity_glove_medical\"])\\\n",
    "    .setOutputCol(\"ner_deid_subentity_glove_converter\") \\\n",
    "    .setThreshold(ner_threshold) \\\n",
    "    .setWhiteList(whitelist)\n",
    "\n",
    "ner_deid_generic_augmented_medical = MedicalNerModel.pretrained(\"ner_deid_generic_augmented\", \"en\", \"clinical/models\") \\\n",
    "    .setInputCols([\"sentence\", \"token\", \"embeddings\"]) \\\n",
    "    .setOutputCol(\"ner_deid_generic_augmented_medical\")\n",
    "\n",
    "ner_deid_generic_augmented_converter = NerConverterInternalModel()\\\n",
    "    .setInputCols([\"sentence\", \"token\", \"ner_deid_generic_augmented_medical\"])\\\n",
    "    .setOutputCol(\"ner_deid_generic_augmented_converter\") \\\n",
    "    .setThreshold(ner_threshold) \\\n",
    "    .setWhiteList(whitelist)\n",
    "\n",
    "ner_deidentify_dl_medical = MedicalNerModel.pretrained(\"ner_deidentify_dl\",\"en\",\"clinical/models\") \\\n",
    "    .setInputCols(\"sentence\",\"token\",\"embeddings\") \\\n",
    "    .setOutputCol(\"ner_deidentify_dl_medical\")\n",
    "\n",
    "ner_deidentify_dl_converter = NerConverterInternalModel()\\\n",
    "    .setInputCols([\"sentence\", \"token\", \"ner_deidentify_dl_medical\"])\\\n",
    "    .setOutputCol(\"ner_deidentify_dl_converter\") \\\n",
    "    .setThreshold(ner_threshold)\\\n",
    "    .setWhiteList(whitelist)\n",
    "\n",
    "ner_deid_enriched_medical = MedicalNerModel.pretrained(\"ner_deid_enriched\",\"en\",\"clinical/models\")\\\n",
    "    .setInputCols([\"sentence\",\"token\",\"embeddings\"])\\\n",
    "    .setOutputCol(\"ner_deid_enriched_medical\")\n",
    "\n",
    "ner_deid_enriched_converter = NerConverterInternalModel()\\\n",
    "    .setInputCols([\"sentence\", \"token\", \"ner_deid_enriched_medical\"])\\\n",
    "    .setOutputCol(\"ner_deid_enriched_converter\") \\\n",
    "    .setThreshold(ner_threshold) \\\n",
    "    .setWhiteList(whitelist)\n",
    "\n",
    "regex_matcher = RegexMatcher()\\\n",
    "    .setInputCols(\"sentence\")\\\n",
    "    .setOutputCol(\"regex_chunk\")\\\n",
    "    .setRules([\"(0[1-9]|1[0-2])/(0[1-9]|[12][0-9]|3[01])/\\d{4};DATE\",\n",
    "               \"DR[A-Za-z0-9]{5,6};ID\"])\\\n",
    "    .setDelimiter(\";\")\n",
    "\n",
    "chunk_merger = ChunkMergeApproach() \\\n",
    "    .setInputCols('regex_chunk', 'ner_deid_subentity_glove_converter', 'ner_deid_generic_augmented_converter', \"ner_deidentify_dl_converter\", \"ner_deid_enriched_converter\") \\\n",
    "    .setOutputCol('merged_ner_chunk') \\\n",
    "    .setMergeOverlapping(True)\n",
    "\n",
    "deid_obfuscated = DeIdentification() \\\n",
    "    .setInputCols([\"sentence\", \"token\", \"merged_ner_chunk\"]) \\\n",
    "    .setOutputCol(\"obfuscated\") \\\n",
    "    .setMode(\"obfuscate\") \\\n",
    "    .setKeepMonth(True) \\\n",
    "    .setKeepYear(True) \\\n",
    "    .setObfuscateDate(True) \\\n",
    "    .setSameEntityThreshold(0.7) \\\n",
    "    .setKeepTextSizeForObfuscation(True) \\\n",
    "    .setFakerLengthOffset(2) \\\n",
    "    .setReturnEntityMappings(True) \\\n",
    "    .setDays(2) \\\n",
    "    .setMappingsColumn(\"aux\") \\\n",
    "    .setIgnoreRegex(False) \\\n",
    "    .setGroupByCol(\"path\") \\\n",
    "    .setRegion(\"us\") \\\n",
    "    .setSeed(40) \\\n",
    "    .setConsistentObfuscation(True) \\\n",
    "    .setChunkMatching(matcherWhitelist)\n",
    "\n",
    "cleaner = NerOutputCleaner() \\\n",
    "    .setInputCol(\"aux\") \\\n",
    "    .setOutputCol(\"new_aux\") \\\n",
    "    .setOutputNerCol(\"positions_ner\")\n",
    "\n",
    "position_finder = PositionFinder() \\\n",
    "    .setInputCols(\"positions_ner\") \\\n",
    "    .setOutputCol(\"coordinates\") \\\n",
    "    .setPageMatrixCol(\"positions\")\n",
    "\n",
    "drawRegions = ImageDrawRegions()  \\\n",
    "    .setInputCol(\"image_raw\")  \\\n",
    "    .setInputChunkMappingCol(\"new_aux\") \\\n",
    "    .setInputRegionsCol(\"coordinates\")  \\\n",
    "    .setOutputCol(\"image_with_regions\")  \\\n",
    "    .setPatchImages(True) \\\n",
    "    .setUseContrastTextColor(False) \\\n",
    "    .setPageMatrixCol(\"positions\")\n",
    "\n",
    "stages = [\n",
    "    pdf_to_image,\n",
    "    ocr,\n",
    "    document_assembler,\n",
    "    sentence_detector,\n",
    "    tokenizer,\n",
    "    word_embeddings,\n",
    "    glove_embeddings,\n",
    "    ner_deid_subentity_glove_medical,\n",
    "    ner_deid_subentity_glove_converter,\n",
    "    ner_deid_generic_augmented_medical,\n",
    "    ner_deid_generic_augmented_converter,\n",
    "    ner_deidentify_dl_medical,\n",
    "    ner_deidentify_dl_converter,\n",
    "    ner_deid_enriched_medical,\n",
    "    ner_deid_enriched_converter,\n",
    "    regex_matcher,\n",
    "    chunk_merger,\n",
    "    deid_obfuscated,\n",
    "    cleaner,\n",
    "    position_finder,\n",
    "    drawRegions\n",
    "]\n",
    "\n",
    "obfuscation_pipe = Pipeline(stages=stages)"
   ]
  },
  {
   "cell_type": "code",
   "execution_count": 38,
   "metadata": {
    "id": "2Zr0yEq4Sq5n"
   },
   "outputs": [],
   "source": [
    "SOURCE_PDF_PATH = \"/content/PDF_FILES_EASY/*\"\n",
    "DF_SAVE_PATH = \"/content/easy/\"\n",
    "SOURCE_GT_PATH = \"/content/pdf_deid_gts_easy.json\"\n",
    "SAVE_MAPPING_PATH = \"/content/easy_result_mapping.json\"\n",
    "SAVE_OUTPUT_PDF = \"/content/easy_pdf_output/\"\n",
    "\n",
    "os.makedirs(SAVE_OUTPUT_PDF, exist_ok=True)"
   ]
  },
  {
   "cell_type": "code",
   "execution_count": 8,
   "metadata": {
    "id": "8C2U6vreLGim"
   },
   "outputs": [],
   "source": [
    "df = spark.read.format('binaryFile').load(SOURCE_PDF_PATH)\n",
    "result = obfuscation_pipe.fit(df).transform(df)\n",
    "result.write.format(\"parquet\").mode(\"overwrite\").save(DF_SAVE_PATH)"
   ]
  },
  {
   "cell_type": "code",
   "execution_count": 39,
   "metadata": {
    "colab": {
     "base_uri": "https://localhost:8080/"
    },
    "id": "o8BXTHasM3uz",
    "outputId": "290efb14-2a77-4974-ae60-02d3aa5639f5"
   },
   "outputs": [
    {
     "name": "stdout",
     "output_type": "stream",
     "text": [
      "Filename: PDF_Deid_Deidentification_11.pdf | Precision: 0.9737 | Recall: 0.9024\n",
      "Filename: PDF_Deid_Deidentification_5.pdf | Precision: 0.9268 | Recall: 0.9268\n",
      "Filename: PDF_Deid_Deidentification_15.pdf | Precision: 0.8750 | Recall: 0.8537\n",
      "Filename: PDF_Deid_Deidentification_9.pdf | Precision: 1.0000 | Recall: 1.0000\n",
      "Filename: PDF_Deid_Deidentification_3.pdf | Precision: 0.9268 | Recall: 0.9268\n",
      "Filename: PDF_Deid_Deidentification_27.pdf | Precision: 0.8750 | Recall: 0.8537\n",
      "Filename: PDF_Deid_Deidentification_7.pdf | Precision: 0.9268 | Recall: 0.9268\n",
      "Filename: PDF_Deid_Deidentification_22.pdf | Precision: 1.0000 | Recall: 1.0000\n",
      "Filename: PDF_Deid_Deidentification_8.pdf | Precision: 0.9512 | Recall: 0.9512\n",
      "Filename: PDF_Deid_Deidentification_10.pdf | Precision: 1.0000 | Recall: 0.9756\n",
      "Filename: PDF_Deid_Deidentification_1.pdf | Precision: 0.8750 | Recall: 0.8537\n",
      "Filename: PDF_Deid_Deidentification_17.pdf | Precision: 0.9474 | Recall: 0.8780\n",
      "Filename: PDF_Deid_Deidentification_21.pdf | Precision: 0.9500 | Recall: 0.9268\n",
      "Filename: PDF_Deid_Deidentification_12.pdf | Precision: 0.9231 | Recall: 0.9231\n",
      "Filename: PDF_Deid_Deidentification_16.pdf | Precision: 0.9512 | Recall: 0.9512\n",
      "Filename: PDF_Deid_Deidentification_19.pdf | Precision: 0.9250 | Recall: 0.9024\n",
      "Filename: PDF_Deid_Deidentification_23.pdf | Precision: 0.9250 | Recall: 0.9024\n",
      "Filename: PDF_Deid_Deidentification_4.pdf | Precision: 0.9000 | Recall: 0.8780\n",
      "Filename: PDF_Deid_Deidentification_26.pdf | Precision: 0.9250 | Recall: 0.9024\n",
      "Filename: PDF_Deid_Deidentification_6.pdf | Precision: 0.9512 | Recall: 0.9512\n",
      "Filename: PDF_Deid_Deidentification_2.pdf | Precision: 0.8537 | Recall: 0.8537\n",
      "Filename: PDF_Deid_Deidentification_25.pdf | Precision: 0.9268 | Recall: 0.9268\n",
      "Filename: PDF_Deid_Deidentification_18.pdf | Precision: 0.8421 | Recall: 0.8205\n",
      "Filename: PDF_Deid_Deidentification_0.pdf | Precision: 0.9268 | Recall: 0.9268\n",
      "Filename: PDF_Deid_Deidentification_28.pdf | Precision: 0.8571 | Recall: 0.8780\n",
      "Filename: PDF_Deid_Deidentification_13.pdf | Precision: 0.9512 | Recall: 0.9512\n",
      "Filename: PDF_Deid_Deidentification_14.pdf | Precision: 0.7368 | Recall: 0.8485\n",
      "Filename: PDF_Deid_Deidentification_24.pdf | Precision: 0.9268 | Recall: 0.9268\n",
      "Filename: PDF_Deid_Deidentification_20.pdf | Precision: 0.9268 | Recall: 0.9268\n",
      "Filename: PDF_Deid_Deidentification_29.pdf | Precision: 0.9487 | Recall: 0.9487\n",
      "\n",
      "Overall Precision: 0.9208\n",
      "Overall Recall: 0.9131\n",
      "F1 Score: 0.9169\n",
      "Mapping File Saved To : /content/easy_result_mapping.json\n"
     ]
    }
   ],
   "source": [
    "evaluate_predictions(SOURCE_GT_PATH=SOURCE_GT_PATH, DF_SAVE_PATH=DF_SAVE_PATH, SAVE_MAPPING_PATH=SAVE_MAPPING_PATH)"
   ]
  },
  {
   "cell_type": "code",
   "execution_count": 30,
   "metadata": {
    "id": "Ovm050pbW4qS"
   },
   "outputs": [],
   "source": [
    "OBFUSCATED_IMAGE_COL = \"image_with_regions\"\n",
    "\n",
    "img_to_pdf = ImageToPdf() \\\n",
    "    .setPageNumCol(\"pagenum\") \\\n",
    "    .setOriginCol(\"path\") \\\n",
    "    .setOutputCol(\"pdf\") \\\n",
    "    .setInputCol(OBFUSCATED_IMAGE_COL) \\\n",
    "    .setAggregatePages(True)\n",
    "\n",
    "source = spark.read.format(\"parquet\").load(DF_SAVE_PATH)\n",
    "result_pdf = img_to_pdf.transform(source)\n",
    "\n",
    "for row in result_pdf.select(\"path\", \"pdf\").toLocalIterator():\n",
    "  filename = row.asDict()[\"path\"]\n",
    "  basename = os.path.basename(filename)\n",
    "\n",
    "  savename = os.path.join(SAVE_OUTPUT_PDF, basename)\n",
    "\n",
    "  pdfFile = open(savename, \"wb\")\n",
    "  pdfFile.write(row.asDict()[\"pdf\"])\n",
    "  pdfFile.close()"
   ]
  },
  {
   "cell_type": "code",
   "execution_count": 41,
   "metadata": {
    "id": "-bCJtVxDUVAz"
   },
   "outputs": [],
   "source": [
    "SOURCE_PDF_PATH = \"/content/PDF_FILES_MEDIUM/*\"\n",
    "DF_SAVE_PATH = \"/content/medium/\"\n",
    "SOURCE_GT_PATH = \"/content/pdf_deid_gts_medium.json\"\n",
    "SAVE_MAPPING_PATH = \"/content/medium_result_mapping.json\"\n",
    "SAVE_OUTPUT_PDF = \"/content/medium_pdf_output/\"\n",
    "\n",
    "os.makedirs(SAVE_OUTPUT_PDF, exist_ok=True)"
   ]
  },
  {
   "cell_type": "code",
   "execution_count": 10,
   "metadata": {
    "id": "5KibSULoM3xq"
   },
   "outputs": [],
   "source": [
    "df = spark.read.format('binaryFile').load(SOURCE_PDF_PATH)\n",
    "result = obfuscation_pipe.fit(df).transform(df)\n",
    "result.write.format(\"parquet\").mode(\"overwrite\").save(DF_SAVE_PATH)"
   ]
  },
  {
   "cell_type": "code",
   "execution_count": 42,
   "metadata": {
    "colab": {
     "base_uri": "https://localhost:8080/"
    },
    "id": "abAAjUWtM30v",
    "outputId": "68387975-4b87-4656-dad8-4c72f9696783"
   },
   "outputs": [
    {
     "name": "stdout",
     "output_type": "stream",
     "text": [
      "Filename: PDF_Deid_Deidentification_Adv_4.pdf | Precision: 0.9545 | Recall: 0.8077\n",
      "Filename: PDF_Deid_Deidentification_Adv_3.pdf | Precision: 0.9111 | Recall: 0.7885\n",
      "Filename: PDF_Deid_Deidentification_12.pdf | Precision: 0.9231 | Recall: 0.9231\n",
      "Filename: PDF_Deid_Deidentification_6.pdf | Precision: 0.9512 | Recall: 0.9512\n",
      "Filename: PDF_Deid_Deidentification_11.pdf | Precision: 0.9737 | Recall: 0.9024\n",
      "Filename: PDF_Deid_Deidentification_Adv_2.pdf | Precision: 0.9268 | Recall: 0.7308\n",
      "Filename: PDF_Deid_Deidentification_3.pdf | Precision: 0.9268 | Recall: 0.9268\n",
      "Filename: PDF_Deid_Deidentification_Adv_9.pdf | Precision: 0.9545 | Recall: 0.8077\n",
      "Filename: PDF_Deid_Deidentification_29.pdf | Precision: 0.9487 | Recall: 0.9487\n",
      "Filename: PDF_Deid_Deidentification_5.pdf | Precision: 0.9268 | Recall: 0.9268\n",
      "Filename: PDF_Deid_Deidentification_Adv_5.pdf | Precision: 0.9070 | Recall: 0.7500\n",
      "Filename: PDF_Deid_Deidentification_13.pdf | Precision: 0.9512 | Recall: 0.9512\n",
      "Filename: PDF_Deid_Deidentification_27.pdf | Precision: 0.8750 | Recall: 0.8537\n",
      "Filename: PDF_Deid_Deidentification_Adv_7.pdf | Precision: 0.9048 | Recall: 0.7308\n",
      "Filename: PDF_Deid_Deidentification_24.pdf | Precision: 0.9268 | Recall: 0.9268\n",
      "Filename: PDF_Deid_Deidentification_2.pdf | Precision: 0.8537 | Recall: 0.8537\n",
      "Filename: PDF_Deid_Deidentification_Adv_1.pdf | Precision: 0.9767 | Recall: 0.8077\n",
      "Filename: PDF_Deid_Deidentification_16.pdf | Precision: 0.9512 | Recall: 0.9512\n",
      "Filename: PDF_Deid_Deidentification_25.pdf | Precision: 0.9268 | Recall: 0.9268\n",
      "Filename: PDF_Deid_Deidentification_Adv_8.pdf | Precision: 0.9524 | Recall: 0.7692\n",
      "Filename: PDF_Deid_Deidentification_28.pdf | Precision: 0.8571 | Recall: 0.8780\n",
      "Filename: PDF_Deid_Deidentification_Adv_0.pdf | Precision: 0.9524 | Recall: 0.7692\n",
      "Filename: PDF_Deid_Deidentification_18.pdf | Precision: 0.8421 | Recall: 0.8205\n",
      "Filename: PDF_Deid_Deidentification_17.pdf | Precision: 0.9474 | Recall: 0.8780\n",
      "Filename: PDF_Deid_Deidentification_10.pdf | Precision: 1.0000 | Recall: 0.9756\n",
      "Filename: PDF_Deid_Deidentification_9.pdf | Precision: 1.0000 | Recall: 1.0000\n",
      "Filename: PDF_Deid_Deidentification_19.pdf | Precision: 0.9250 | Recall: 0.9024\n",
      "Filename: PDF_Deid_Deidentification_15.pdf | Precision: 0.8750 | Recall: 0.8537\n",
      "Filename: PDF_Deid_Deidentification_0.pdf | Precision: 0.9268 | Recall: 0.9268\n",
      "Filename: PDF_Deid_Deidentification_23.pdf | Precision: 0.9250 | Recall: 0.9024\n",
      "Filename: PDF_Deid_Deidentification_14.pdf | Precision: 0.7368 | Recall: 0.8485\n",
      "Filename: PDF_Deid_Deidentification_22.pdf | Precision: 1.0000 | Recall: 1.0000\n",
      "Filename: PDF_Deid_Deidentification_4.pdf | Precision: 0.9000 | Recall: 0.8780\n",
      "Filename: PDF_Deid_Deidentification_21.pdf | Precision: 0.9500 | Recall: 0.9268\n",
      "Filename: PDF_Deid_Deidentification_26.pdf | Precision: 0.9250 | Recall: 0.9024\n",
      "Filename: PDF_Deid_Deidentification_7.pdf | Precision: 0.9268 | Recall: 0.9268\n",
      "Filename: PDF_Deid_Deidentification_8.pdf | Precision: 0.9512 | Recall: 0.9512\n",
      "Filename: PDF_Deid_Deidentification_Adv_6.pdf | Precision: 0.8667 | Recall: 0.7500\n",
      "Filename: PDF_Deid_Deidentification_20.pdf | Precision: 0.9268 | Recall: 0.9268\n",
      "Filename: PDF_Deid_Deidentification_1.pdf | Precision: 0.8750 | Recall: 0.8537\n",
      "\n",
      "Overall Precision: 0.9233\n",
      "Overall Recall: 0.8776\n",
      "F1 Score: 0.8999\n",
      "Mapping File Saved To : /content/medium_result_mapping.json\n"
     ]
    }
   ],
   "source": [
    "evaluate_predictions(SOURCE_GT_PATH=SOURCE_GT_PATH, DF_SAVE_PATH=DF_SAVE_PATH, SAVE_MAPPING_PATH=SAVE_MAPPING_PATH)"
   ]
  },
  {
   "cell_type": "code",
   "execution_count": 32,
   "metadata": {
    "id": "xGyqEql6QKTc"
   },
   "outputs": [],
   "source": [
    "OBFUSCATED_IMAGE_COL = \"image_with_regions\"\n",
    "\n",
    "img_to_pdf = ImageToPdf() \\\n",
    "    .setPageNumCol(\"pagenum\") \\\n",
    "    .setOriginCol(\"path\") \\\n",
    "    .setOutputCol(\"pdf\") \\\n",
    "    .setInputCol(OBFUSCATED_IMAGE_COL) \\\n",
    "    .setAggregatePages(True)\n",
    "\n",
    "source = spark.read.format(\"parquet\").load(DF_SAVE_PATH)\n",
    "result_pdf = img_to_pdf.transform(source)\n",
    "\n",
    "for row in result_pdf.select(\"path\", \"pdf\").toLocalIterator():\n",
    "  filename = row.asDict()[\"path\"]\n",
    "  basename = os.path.basename(filename)\n",
    "\n",
    "  savename = os.path.join(SAVE_OUTPUT_PDF, basename)\n",
    "  if \"Adv\" in basename:\n",
    "    pdfFile = open(savename, \"wb\")\n",
    "    pdfFile.write(row.asDict()[\"pdf\"])\n",
    "    pdfFile.close()"
   ]
  }
 ],
 "metadata": {
  "accelerator": "GPU",
  "colab": {
   "gpuType": "A100",
   "provenance": []
  },
  "kernelspec": {
   "display_name": "Python 3 (ipykernel)",
   "language": "python",
   "name": "python3"
  },
  "language_info": {
   "codemirror_mode": {
    "name": "ipython",
    "version": 3
   },
   "file_extension": ".py",
   "mimetype": "text/x-python",
   "name": "python",
   "nbconvert_exporter": "python",
   "pygments_lexer": "ipython3",
   "version": "3.12.7"
  }
 },
 "nbformat": 4,
 "nbformat_minor": 4
}
