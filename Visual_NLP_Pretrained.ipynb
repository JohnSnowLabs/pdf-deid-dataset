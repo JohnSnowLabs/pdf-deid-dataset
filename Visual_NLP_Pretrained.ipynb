{
 "cells": [
  {
   "cell_type": "markdown",
   "id": "1d2046e8-7f30-4700-9403-a71d7e1946bb",
   "metadata": {},
   "source": [
    "## Spark Session Setup for Visual NLP, Healthcare NLP, and Open-Source NLP\n",
    "\n",
    "To use this notebook, you need to start a Spark session with the following John Snow Labs libraries:\n",
    "\n",
    "- **[Spark-OCR / Visual-NLP](https://nlp.johnsnowlabs.com/docs/en/ocr)**\n",
    "- **[Healthcare NLP](https://nlp.johnsnowlabs.com/licensed/api/python/)**\n",
    "- **[Open-Source NLP](https://github.com/JohnSnowLabs/spark-nlp)**\n",
    "\n",
    "### Required Environment Variables\n",
    "\n",
    "Ensure you have a valid license file containing your credentials. The following environment variables must be set:\n",
    "\n",
    "- `SPARK_NLP_LICENSE` (Healthcare)\n",
    "- `SECRET` (Healthcare)\n",
    "- `JSL_VERSION` (Healthcare)\n",
    "- `SPARK_OCR_LICENSE` (Visual)\n",
    "- `SPARK_OCR_SECRET` (Visual)\n",
    "- `OCR_VERSION` (Visual)\n",
    "- `PUBLIC_VERSION` (Open-Source)\n",
    "- `AWS_ACCESS_KEY_ID`\n",
    "- `AWS_SECRET_ACCESS_KEY`\n",
    "- `AWS_SESSION_TOKEN`\n",
    "\n",
    "### Notes\n",
    "\n",
    "- For **text-only projects** (i.e., no visual data processing), you can use **`SPARK_NLP_LICENSE`**.\n",
    "- For projects involving **visual data** (e.g., image or PDF processing), you should use **`SPARK_OCR_LICENSE`**.\n",
    "- For projects involving both **visual** and **text** you can use either one of them.\n",
    "- All required key-value pairs **must be set as environment variables** to install and use the full functionality of these libraries.\n",
    "- Ensure that you **restart** the session after installing all the required libraries."
   ]
  },
  {
   "cell_type": "markdown",
   "id": "fb870404-6ae9-4142-bf7b-9f86b5580198",
   "metadata": {},
   "source": [
    "<h2>Install Required Library</h2>"
   ]
  },
  {
   "cell_type": "code",
   "execution_count": 1,
   "id": "e6ec7b31-e13a-44d6-a0ea-a7438631eda3",
   "metadata": {},
   "outputs": [],
   "source": [
    "import os\n",
    "import json\n",
    "import time\n",
    "import shutil\n",
    "\n",
    "license = \"../spark_nlp_for_healthcare_spark_ocr_10057.json\"\n",
    "\n",
    "if license and \"json\" in license:\n",
    "\n",
    "    with open(license, \"r\") as creds_in:\n",
    "        creds = json.loads(creds_in.read())\n",
    "\n",
    "        for key in creds.keys():\n",
    "            os.environ[key] = creds[key]\n",
    "else:\n",
    "    raise Exception(\"License JSON File is not specified\")"
   ]
  },
  {
   "cell_type": "code",
   "execution_count": 2,
   "id": "32203195-5897-4ad7-851d-f5a94d1f2daf",
   "metadata": {},
   "outputs": [
    {
     "name": "stdout",
     "output_type": "stream",
     "text": [
      "\u001b[33mWARNING: Running pip as the 'root' user can result in broken permissions and conflicting behaviour with the system package manager, possibly rendering your system unusable.It is recommended to use a virtual environment instead: https://pip.pypa.io/warnings/venv. Use the --root-user-action option if you know what you are doing and want to suppress this warning.\u001b[0m\u001b[33m\n",
      "\u001b[0m\n",
      "\u001b[1m[\u001b[0m\u001b[34;49mnotice\u001b[0m\u001b[1;39;49m]\u001b[0m\u001b[39;49m A new release of pip is available: \u001b[0m\u001b[31;49m24.2\u001b[0m\u001b[39;49m -> \u001b[0m\u001b[32;49m25.1.1\u001b[0m\n",
      "\u001b[1m[\u001b[0m\u001b[34;49mnotice\u001b[0m\u001b[1;39;49m]\u001b[0m\u001b[39;49m To update, run: \u001b[0m\u001b[32;49mpython -m pip install --upgrade pip\u001b[0m\n",
      "\u001b[31mERROR: pip's dependency resolver does not currently take into account all the packages that are installed. This behaviour is the source of the following dependency conflicts.\n",
      "spark-ocr 6.0.0 requires spark-nlp==5.5.3, but you have spark-nlp 6.0.0 which is incompatible.\u001b[0m\u001b[31m\n",
      "\u001b[0m\u001b[33mWARNING: Running pip as the 'root' user can result in broken permissions and conflicting behaviour with the system package manager, possibly rendering your system unusable.It is recommended to use a virtual environment instead: https://pip.pypa.io/warnings/venv. Use the --root-user-action option if you know what you are doing and want to suppress this warning.\u001b[0m\u001b[33m\n",
      "\u001b[0m\n",
      "\u001b[1m[\u001b[0m\u001b[34;49mnotice\u001b[0m\u001b[1;39;49m]\u001b[0m\u001b[39;49m A new release of pip is available: \u001b[0m\u001b[31;49m24.2\u001b[0m\u001b[39;49m -> \u001b[0m\u001b[32;49m25.1.1\u001b[0m\n",
      "\u001b[1m[\u001b[0m\u001b[34;49mnotice\u001b[0m\u001b[1;39;49m]\u001b[0m\u001b[39;49m To update, run: \u001b[0m\u001b[32;49mpython -m pip install --upgrade pip\u001b[0m\n",
      "\u001b[33mWARNING: Running pip as the 'root' user can result in broken permissions and conflicting behaviour with the system package manager, possibly rendering your system unusable.It is recommended to use a virtual environment instead: https://pip.pypa.io/warnings/venv. Use the --root-user-action option if you know what you are doing and want to suppress this warning.\u001b[0m\u001b[33m\n",
      "\u001b[0m\n",
      "\u001b[1m[\u001b[0m\u001b[34;49mnotice\u001b[0m\u001b[1;39;49m]\u001b[0m\u001b[39;49m A new release of pip is available: \u001b[0m\u001b[31;49m24.2\u001b[0m\u001b[39;49m -> \u001b[0m\u001b[32;49m25.1.1\u001b[0m\n",
      "\u001b[1m[\u001b[0m\u001b[34;49mnotice\u001b[0m\u001b[1;39;49m]\u001b[0m\u001b[39;49m To update, run: \u001b[0m\u001b[32;49mpython -m pip install --upgrade pip\u001b[0m\n",
      "\u001b[33mWARNING: Running pip as the 'root' user can result in broken permissions and conflicting behaviour with the system package manager, possibly rendering your system unusable.It is recommended to use a virtual environment instead: https://pip.pypa.io/warnings/venv. Use the --root-user-action option if you know what you are doing and want to suppress this warning.\u001b[0m\u001b[33m\n",
      "\u001b[0m\n",
      "\u001b[1m[\u001b[0m\u001b[34;49mnotice\u001b[0m\u001b[1;39;49m]\u001b[0m\u001b[39;49m A new release of pip is available: \u001b[0m\u001b[31;49m24.2\u001b[0m\u001b[39;49m -> \u001b[0m\u001b[32;49m25.1.1\u001b[0m\n",
      "\u001b[1m[\u001b[0m\u001b[34;49mnotice\u001b[0m\u001b[1;39;49m]\u001b[0m\u001b[39;49m To update, run: \u001b[0m\u001b[32;49mpython -m pip install --upgrade pip\u001b[0m\n",
      "\u001b[33mWARNING: Running pip as the 'root' user can result in broken permissions and conflicting behaviour with the system package manager, possibly rendering your system unusable.It is recommended to use a virtual environment instead: https://pip.pypa.io/warnings/venv. Use the --root-user-action option if you know what you are doing and want to suppress this warning.\u001b[0m\u001b[33m\n",
      "\u001b[0m\n",
      "\u001b[1m[\u001b[0m\u001b[34;49mnotice\u001b[0m\u001b[1;39;49m]\u001b[0m\u001b[39;49m A new release of pip is available: \u001b[0m\u001b[31;49m24.2\u001b[0m\u001b[39;49m -> \u001b[0m\u001b[32;49m25.1.1\u001b[0m\n",
      "\u001b[1m[\u001b[0m\u001b[34;49mnotice\u001b[0m\u001b[1;39;49m]\u001b[0m\u001b[39;49m To update, run: \u001b[0m\u001b[32;49mpython -m pip install --upgrade pip\u001b[0m\n"
     ]
    }
   ],
   "source": [
    "!pip install --upgrade -q https://pypi.johnsnowlabs.com/$SPARK_OCR_SECRET/spark-ocr/spark_ocr-$OCR_VERSION-py3-none-any.whl\n",
    "\n",
    "!pip install --upgrade -q https://pypi.johnsnowlabs.com/$SECRET/spark-nlp-jsl/spark_nlp_jsl-$JSL_VERSION-py3-none-any.whl\n",
    "\n",
    "!pip install -q spark-nlp==$PUBLIC_VERSION\n",
    "\n",
    "!pip install -q pandas\n",
    "\n",
    "!pip install -q matplotlib"
   ]
  },
  {
   "cell_type": "code",
   "execution_count": null,
   "id": "75494ab3-1e9b-4e56-b841-3489cf7e1e47",
   "metadata": {},
   "outputs": [],
   "source": [
    "### RESTART SESSION!!!"
   ]
  },
  {
   "cell_type": "markdown",
   "id": "b1756bb7-dc7d-4aa4-9d45-b54dc7724e7f",
   "metadata": {},
   "source": [
    "## Start Spark Session - Visual NLP, Healthcare NLP, Spark-NLP\n",
    "\n",
    "In this section, we initialize the Spark session using the `start()` function from the **`sparkocr`** package.\n",
    "\n",
    "This utility sets up a fully configured Spark session tailored for **Spark OCR** and optionally for **Spark NLP**, **Healthcare NLP**, and **GPU/Apple Silicon support**.\n",
    "\n",
    "### Function Overview: `start()`\n",
    "\n",
    "The `start()` function returns a ready-to-use `SparkSession` and accepts the following parameters:\n",
    "\n",
    "- **`secret`**: Secret key required to download JAR files from the John Snow Labs server.\n",
    "- **`jar_path`**: (Optional) Local path to a pre-downloaded JAR file.\n",
    "- **`extra_conf`**: Additional Spark configuration — can be a `SparkConf` object or a Python `dict`.\n",
    "- **`master_url`**: URL for the Spark master (e.g., `\"local[*]\"`).\n",
    "- **`nlp_version`**: Version of Spark NLP to use. If `None`, Spark NLP is not included.\n",
    "- **`nlp_internal`**: Boolean indicating whether to include Spark NLP Internal.\n",
    "- **`nlp_jsl`**: Boolean or version string to include Spark NLP for Healthcare (JSL).\n",
    "- **`nlp_secret`**: Secret key for downloading Spark NLP Internal.\n",
    "- **`m1`**: Set to `True` to enable support for Apple Silicon (M1/M2) Macs.\n",
    "- **`keys_file`**: Path to a JSON file containing your credentials. Default is `'keys.json'`.\n",
    "- **`logLevel`**: Logging level for Spark (e.g., `\"WARN\"`, `\"INFO\"`).\n",
    "- **`use_gpu`**: Whether to enable GPU support for Spark NLP. Default is `False`.\n",
    "- **`apple_silicon`**: Whether to use Apple Silicon binaries. Default is `False`."
   ]
  },
  {
   "cell_type": "code",
   "execution_count": null,
   "id": "d699825f-5d8c-4794-8c5a-e5cbb6cdf174",
   "metadata": {
    "scrolled": true
   },
   "outputs": [],
   "source": [
    "from sparknlp.pretrained import PretrainedPipeline\n",
    "from sparkocr import start\n",
    "import os\n",
    "import json\n",
    "import time\n",
    "import shutil\n",
    "\n",
    "license = \"../spark_nlp_for_healthcare_spark_ocr_10057.json\"\n",
    "\n",
    "extra_configurations = {\n",
    "    \"spark.extraListeners\": \"com.johnsnowlabs.license.LicenseLifeCycleManager\", #required\n",
    "    \"spark.sql.legacy.allowUntypedScalaUDF\" : \"true\", #required\n",
    "    \"spark.executor.instances\" : \"7\", \n",
    "    \"spark.executor.cores\" : \"16\", \n",
    "    \"spark.executor.memory\" : \"130G\", \n",
    "    \"spark.driver.memory\" : \"100G\", \n",
    "    \"spark.sql.shuffle.partitions\" : \"896\"\n",
    "}\n",
    "\n",
    "# Not needed for Google Collab\n",
    "os.environ['JAVA_HOME'] = '/home/linuxbrew/.linuxbrew/Cellar/openjdk@17/17.0.15'\n",
    "\n",
    "spark = start(nlp_internal=True,\n",
    "              nlp_jsl=True,\n",
    "              use_gpu=False,\n",
    "              extra_conf=extra_configurations,\n",
    "              keys_file=license)\n",
    "\n",
    "spark"
   ]
  },
  {
   "cell_type": "markdown",
   "id": "35ad0fec-7d58-4a28-b27c-0079e7dca6e6",
   "metadata": {},
   "source": [
    "## Pretrained Pipelines for PHI Deidentification\n",
    "\n",
    "This notebook demonstrates how effortlessly you can apply **PHI deidentification** to PDF documents using **pretrained pipelines** from **John Snow Labs** — all with a single `.transform()` call.\n",
    "\n",
    "These pipelines are specifically designed to identify and redact **personally identifiable information (PII)** and **protected health information (PHI)**. The redaction is performed by overlaying **black bounding boxes** on top of detected sensitive content in the resulting PDF, preserving the original layout while ensuring privacy compliance.\n",
    "\n",
    "Several pipelines are also **signature-aware**, meaning they can detect and remove **handwritten or scanned signatures**, enabling comprehensive document sanitization.\n",
    "\n",
    "### Available Pipelines\n",
    "\n",
    "- **[`pdf_deid_multilingual_name_plus`](https://nlp.johnsnowlabs.com/2025/05/17/pdf_deid_multilingual_name_plus.html)**  \n",
    "  Redacts PHI entities such as: `HOSPITAL`, `NAME`, `PATIENT`, `ID`, `MEDICALRECORD`, `IDNUM`, `COUNTRY`, `LOCATION`, `STREET`, `STATE`, `ZIP`, `CONTACT`, `PHONE`, `DATE`.\n",
    "\n",
    "- **[`pdf_deid_multilingual_name_plus_signature_aware`](https://nlp.johnsnowlabs.com/2025/05/17/pdf_deid_multilingual_name_plus_signature_aware.html)**  \n",
    "  Extends the above pipeline with **signature detection and removal** capabilities.\n",
    "\n",
    "- **[`pdf_obfuscate_multilingual_name_plus`](https://nlp.johnsnowlabs.com/2025/05/17/pdf_obfuscate_multilingual_name_plus.html)**  \n",
    "  Detects the same PHI entities as the above pipelines but replaces them **in-place with obfuscated text of the same length** instead of drawing box for redaction. Does not include signature detection and removal.\n",
    "\n",
    "- **[`pdf_deid_multi_model_context_pipeline`](https://nlp.johnsnowlabs.com/2025/05/09/pdf_deid_multi_model_context_pipeline.html)**  \n",
    "  A context-aware pipeline that redacts entities such as: `AGE`, `CITY`, `COUNTRY`, `DATE`, `DOCTOR`, `EMAIL`, `HOSPITAL`, `IDNUM`, `ORGANIZATION`, `PATIENT`, `PHONE`, `PROFESSION`, `STATE`, `STREET`, `USERNAME`, `ZIP`.\n",
    "\n",
    "- **[`pdf_deid_multi_model_context_signature_aware_pipeline`](https://nlp.johnsnowlabs.com/2025/05/23/pdf_deid_multi_model_context_signature_aware_pipeline.html)**  \n",
    "  Includes all functionalities of the context-aware pipeline with additional **signature detection and removal**.\n",
    "\n",
    "- **[`pdf_obfuscation_multi_model_context_pipeline`](https://nlp.johnsnowlabs.com/2025/05/09/pdf_obfuscation_multi_model_context_pipeline.html)**  \n",
    "Detects the same PHI entities as the above pipelines but replaces them **in-place with obfuscated text of the same length** instead of drawing box for redaction. Does not include signature detection and removal."
   ]
  },
  {
   "cell_type": "markdown",
   "id": "b5f79cc8-d9b9-43ec-8326-a54cb95ffd58",
   "metadata": {},
   "source": [
    "<h2>Deidentification Pretrained Pipelines</h2>"
   ]
  },
  {
   "cell_type": "code",
   "execution_count": 4,
   "id": "07a25aaa-d58c-4705-8a77-abd06c3f21f4",
   "metadata": {},
   "outputs": [
    {
     "name": "stdout",
     "output_type": "stream",
     "text": [
      "pdf_deid_multi_model_context_pipeline download started this may take some time.\n",
      "Approx size to download 4.4 GB\n",
      "[ | ]"
     ]
    },
    {
     "name": "stderr",
     "output_type": "stream",
     "text": [
      "25/05/27 16:10:20 WARN S3AbortableInputStream: Not all bytes were read from the S3ObjectInputStream, aborting HTTP connection. This is likely an error and may result in sub-optimal behavior. Request only the bytes you need via a ranged GET or drain the input stream after use.\n"
     ]
    },
    {
     "name": "stdout",
     "output_type": "stream",
     "text": [
      "[OK!]\n"
     ]
    },
    {
     "data": {
      "text/plain": [
       "[PdfToImage_3039dbc55d70,\n",
       " ImageToText_e47a60ca0cbf,\n",
       " DocumentAssembler_47aaa7f19fed,\n",
       " SentenceDetectorDLModel_6bafc4746ea5,\n",
       " REGEX_TOKENIZER_e1689c9bc262,\n",
       " WORD_EMBEDDINGS_MODEL_9004b1d00302,\n",
       " MedicalNerModel_9d4a08b1c03d,\n",
       " NerConverter_f230dec390db,\n",
       " CONTEXTUAL-PARSER_c654a34a3fa4,\n",
       " CONTEXTUAL-PARSER_33af26b2fdc0,\n",
       " CONTEXTUAL-PARSER_1b2769552347,\n",
       " CONTEXTUAL-PARSER_07bff3c2b284,\n",
       " CONTEXTUAL-PARSER_96b9d29769eb,\n",
       " CONTEXTUAL-PARSER_7aefd98e984c,\n",
       " ENTITY_EXTRACTOR_2ddfc4744b44,\n",
       " CONTEXTUAL-PARSER_99792b93398d,\n",
       " REGEX_MATCHER_2b137485db5e,\n",
       " CONTEXTUAL-PARSER_30dc43a095c1,\n",
       " CONTEXTUAL-PARSER_f64d354f0266,\n",
       " CONTEXTUAL-PARSER_72e20622d44a,\n",
       " CONTEXTUAL-PARSER_563cfd5f905d,\n",
       " REGEX_MATCHER_52d38a3643c9,\n",
       " MERGE_b0a322ec2787,\n",
       " MERGE_97a646c7a333,\n",
       " XLM_ROBERTA_EMBEDDINGS_b8a75c006754,\n",
       " MedicalNerModel_59183c57aedb,\n",
       " NER_CONVERTER_a3d70cd61248,\n",
       " PretrainedZeroShotNER_ca8c4dfe310f,\n",
       " NER_CONVERTER_86c4cbb15961,\n",
       " PretrainedZeroShotNER_5f30ab9002f1,\n",
       " NER_CONVERTER_b537928b54d8,\n",
       " MERGE_1b7360979a74,\n",
       " PositionFinder_36066d935af6,\n",
       " ImageDrawRegions_0a0923af5e7c,\n",
       " ImageToPdf_26684447dfb1]"
      ]
     },
     "execution_count": 4,
     "metadata": {},
     "output_type": "execute_result"
    }
   ],
   "source": [
    "pdf_deid_multi_model_context_pipeline = PretrainedPipeline(\"pdf_deid_multi_model_context_pipeline\", \"en\", \"clinical/ocr\")\n",
    "\n",
    "pdf_deid_multi_model_context_pipeline.model.stages"
   ]
  },
  {
   "cell_type": "code",
   "execution_count": 5,
   "id": "5d855c2d-a67a-4e89-9763-e59508ba8679",
   "metadata": {},
   "outputs": [
    {
     "data": {
      "text/html": [
       "<table border='1'>\n",
       "<tr><th>path</th><th>modificationTime</th><th>length</th><th>content</th></tr>\n",
       "<tr><td>file:/workspace/p...</td><td>2025-05-27 16:00:05</td><td>29492</td><td>[25 50 44 46 2D 3...</td></tr>\n",
       "</table>\n"
      ],
      "text/plain": [
       "+--------------------+-------------------+------+--------------------+\n",
       "|                path|   modificationTime|length|             content|\n",
       "+--------------------+-------------------+------+--------------------+\n",
       "|file:/workspace/p...|2025-05-27 16:00:05| 29492|[25 50 44 46 2D 3...|\n",
       "+--------------------+-------------------+------+--------------------+"
      ]
     },
     "execution_count": 5,
     "metadata": {},
     "output_type": "execute_result"
    }
   ],
   "source": [
    "input_pdf_path = \"./PDF_Original/Easy/PDF_Deid_Deidentification_0.pdf\"\n",
    "output_pdf_path = \"./sample_result/pretrained/\"\n",
    "\n",
    "# load pdf file \n",
    "df = spark.read.format(\"binaryFile\").load(input_pdf_path)\n",
    "df"
   ]
  },
  {
   "cell_type": "code",
   "execution_count": 7,
   "id": "193d5d24-6404-4d58-bccd-b3eec04457c9",
   "metadata": {},
   "outputs": [
    {
     "name": "stderr",
     "output_type": "stream",
     "text": [
      "25/05/27 16:12:52 WARN PDType1Font: Using fallback font LiberationSans for Times-Bold\n",
      "25/05/27 16:12:52 WARN PDType1Font: Using fallback font LiberationSans for Times-Bold\n",
      "25/05/27 16:12:52 WARN PDType1Font: Using fallback font LiberationSans for Helvetica-Bold\n",
      "25/05/27 16:12:52 WARN PDType1Font: Using fallback font LiberationSans for Times-Roman\n",
      "25/05/27 16:12:52 WARN PDType1Font: Using fallback font LiberationSans for Helvetica-Bold\n",
      "25/05/27 16:12:52 WARN PDType1Font: Using fallback font LiberationSans for Times-Roman\n",
      "25/05/27 16:12:52 WARN PDType1Font: Using fallback font LiberationSans for Helvetica-Bold\n",
      "25/05/27 16:12:52 WARN PDType1Font: Using fallback font LiberationSans for Times-Roman\n",
      "25/05/27 16:12:52 WARN PDType1Font: Using fallback font LiberationSans for Times-Bold\n",
      "25/05/27 16:12:52 WARN DAGScheduler: Broadcasting large task binary with size 1675.1 KiB\n",
      "25/05/27 16:13:15 WARN DAGScheduler: Broadcasting large task binary with size 1197.8 KiB\n",
      "                                                                                \r"
     ]
    }
   ],
   "source": [
    "result = pdf_deid_multi_model_context_pipeline.transform(df)\n",
    "\n",
    "for row in result.select(\"path\", \"pdf\").toLocalIterator():\n",
    "    input_file_name = os.path.basename(row.asDict()[\"path\"]).replace(\".pdf\", \"\")\n",
    "    savename = os.path.join(output_pdf_path, input_file_name + \"_deid_cleaned.pdf\")\n",
    "    pdfFile = open(savename, \"wb\")\n",
    "    pdfFile.write(row.asDict()[\"pdf\"])\n",
    "    pdfFile.close()"
   ]
  },
  {
   "cell_type": "code",
   "execution_count": 9,
   "id": "92bc399a-fa1b-4fdd-91e8-2c3beced6a77",
   "metadata": {},
   "outputs": [
    {
     "name": "stdout",
     "output_type": "stream",
     "text": [
      "pdf_deid_multilingual_name_plus download started this may take some time.\n",
      "Approx size to download 3.8 GB\n",
      "[ | ]"
     ]
    },
    {
     "name": "stderr",
     "output_type": "stream",
     "text": [
      "25/05/27 16:18:54 WARN S3AbortableInputStream: Not all bytes were read from the S3ObjectInputStream, aborting HTTP connection. This is likely an error and may result in sub-optimal behavior. Request only the bytes you need via a ranged GET or drain the input stream after use.\n"
     ]
    },
    {
     "name": "stdout",
     "output_type": "stream",
     "text": [
      "[OK!]\n"
     ]
    },
    {
     "data": {
      "text/plain": [
       "[PdfToImage_1c5484056078,\n",
       " ImageToText_6cb91ed976f8,\n",
       " DocumentAssembler_a98ae552b35a,\n",
       " SentenceDetectorDLModel_c83c27f46b97,\n",
       " REGEX_TOKENIZER_49e33e5662c4,\n",
       " PretrainedZeroShotNER_ca8c4dfe310f,\n",
       " NER_CONVERTER_a9840264a1d1,\n",
       " WORD_EMBEDDINGS_MODEL_9004b1d00302,\n",
       " MedicalNerModel_ada39ac0d359,\n",
       " NER_CONVERTER_0343c0826eea,\n",
       " XLM_ROBERTA_EMBEDDINGS_b8a75c006754,\n",
       " MedicalNerModel_59183c57aedb,\n",
       " NER_CONVERTER_8e4da16b943c,\n",
       " CONTEXTUAL-PARSER_100152bbc72d,\n",
       " ChunkConverter_40d7b165011b,\n",
       " MERGE_21afdc51d507,\n",
       " DE-IDENTIFICATION_5c638995ea56,\n",
       " NerOutputCleaner_be85681e16a9,\n",
       " PositionFinder_7b9598051b35,\n",
       " ImageDrawRegions_a95cd9174c93,\n",
       " ImageToPdf_c03962c85764]"
      ]
     },
     "execution_count": 9,
     "metadata": {},
     "output_type": "execute_result"
    }
   ],
   "source": [
    "pdf_deid_multilingual_name_plus = PretrainedPipeline(\"pdf_deid_multilingual_name_plus\", \"en\", \"clinical/ocr\")\n",
    "\n",
    "pdf_deid_multilingual_name_plus.model.stages"
   ]
  },
  {
   "cell_type": "code",
   "execution_count": 10,
   "id": "6f49b7e2-a979-47eb-9c33-d1f9c3401f94",
   "metadata": {},
   "outputs": [
    {
     "data": {
      "text/html": [
       "<table border='1'>\n",
       "<tr><th>path</th><th>modificationTime</th><th>length</th><th>content</th></tr>\n",
       "<tr><td>file:/workspace/p...</td><td>2025-05-27 16:00:05</td><td>29221</td><td>[25 50 44 46 2D 3...</td></tr>\n",
       "</table>\n"
      ],
      "text/plain": [
       "+--------------------+-------------------+------+--------------------+\n",
       "|                path|   modificationTime|length|             content|\n",
       "+--------------------+-------------------+------+--------------------+\n",
       "|file:/workspace/p...|2025-05-27 16:00:05| 29221|[25 50 44 46 2D 3...|\n",
       "+--------------------+-------------------+------+--------------------+"
      ]
     },
     "execution_count": 10,
     "metadata": {},
     "output_type": "execute_result"
    }
   ],
   "source": [
    "input_pdf_path = \"./PDF_Original/Easy/PDF_Deid_Deidentification_1.pdf\"\n",
    "output_pdf_path = \"./sample_result/pretrained/\"\n",
    "\n",
    "df = spark.read.format(\"binaryFile\").load(input_pdf_path)\n",
    "df"
   ]
  },
  {
   "cell_type": "code",
   "execution_count": 11,
   "id": "88c710cb-5e5c-4bba-84f4-3ca1af8a374a",
   "metadata": {},
   "outputs": [
    {
     "name": "stderr",
     "output_type": "stream",
     "text": [
      "25/05/27 16:19:09 WARN PDType1Font: Using fallback font LiberationSans for Helvetica-Bold\n",
      "25/05/27 16:19:09 WARN PDType1Font: Using fallback font LiberationSans for Times-Roman\n",
      "25/05/27 16:19:09 WARN PDType1Font: Using fallback font LiberationSans for Times-Bold\n",
      "25/05/27 16:19:09 WARN PDType1Font: Using fallback font LiberationSans for Times-Bold\n",
      "25/05/27 16:19:09 WARN PDType1Font: Using fallback font LiberationSans for Helvetica-Bold\n",
      "25/05/27 16:19:09 WARN PDType1Font: Using fallback font LiberationSans for Times-Roman\n",
      "25/05/27 16:19:09 WARN PDType1Font: Using fallback font LiberationSans for Times-Bold\n",
      "25/05/27 16:19:09 WARN PDType1Font: Using fallback font LiberationSans for Helvetica-Bold\n",
      "25/05/27 16:19:09 WARN PDType1Font: Using fallback font LiberationSans for Times-Roman\n",
      "25/05/27 16:19:10 WARN DAGScheduler: Broadcasting large task binary with size 2.2 MiB\n",
      "[Stage 295:===========================================>           (11 + 3) / 14]\r"
     ]
    },
    {
     "name": "stdout",
     "output_type": "stream",
     "text": [
      "Using CPUs\n"
     ]
    },
    {
     "name": "stderr",
     "output_type": "stream",
     "text": [
      "25/05/27 16:19:27 WARN DAGScheduler: Broadcasting large task binary with size 1230.1 KiB\n",
      "25/05/27 16:19:28 WARN DAGScheduler: Broadcasting large task binary with size 1156.4 KiB\n",
      "                                                                                \r"
     ]
    }
   ],
   "source": [
    "result = pdf_deid_multilingual_name_plus.transform(df)\n",
    "\n",
    "for row in result.select(\"path\", \"pdf\").toLocalIterator():\n",
    "    input_file_name = os.path.basename(row.asDict()[\"path\"]).replace(\".pdf\", \"\")\n",
    "    savename = os.path.join(output_pdf_path, input_file_name + \"_deid_cleaned.pdf\")\n",
    "    pdfFile = open(savename, \"wb\")\n",
    "    pdfFile.write(row.asDict()[\"pdf\"])\n",
    "    pdfFile.close()"
   ]
  },
  {
   "cell_type": "code",
   "execution_count": 12,
   "id": "84b3992c-ca29-46a4-bb49-d073daeefeab",
   "metadata": {},
   "outputs": [
    {
     "data": {
      "text/html": [
       "<table border='1'>\n",
       "<tr><th>path</th><th>modificationTime</th><th>length</th><th>content</th></tr>\n",
       "<tr><td>file:/workspace/p...</td><td>2025-05-27 16:00:05</td><td>461436</td><td>[25 50 44 46 2D 3...</td></tr>\n",
       "<tr><td>file:/workspace/p...</td><td>2025-05-27 16:00:05</td><td>273133</td><td>[25 50 44 46 2D 3...</td></tr>\n",
       "<tr><td>file:/workspace/p...</td><td>2025-05-27 16:00:05</td><td>29192</td><td>[25 50 44 46 2D 3...</td></tr>\n",
       "</table>\n"
      ],
      "text/plain": [
       "+--------------------+-------------------+------+--------------------+\n",
       "|                path|   modificationTime|length|             content|\n",
       "+--------------------+-------------------+------+--------------------+\n",
       "|file:/workspace/p...|2025-05-27 16:00:05|461436|[25 50 44 46 2D 3...|\n",
       "|file:/workspace/p...|2025-05-27 16:00:05|273133|[25 50 44 46 2D 3...|\n",
       "|file:/workspace/p...|2025-05-27 16:00:05| 29192|[25 50 44 46 2D 3...|\n",
       "+--------------------+-------------------+------+--------------------+"
      ]
     },
     "execution_count": 12,
     "metadata": {},
     "output_type": "execute_result"
    }
   ],
   "source": [
    "# Running Multiple Files\n",
    "\n",
    "input_files_to_run = [\n",
    "    \"./PDF_Original/Easy/PDF_Deid_Deidentification_10.pdf\",\n",
    "    \"./PDF_Original/Medium/PDF_Deid_Deidentification_Medium_0.pdf\",\n",
    "    \"./PDF_Original/Hard/PDF_Deid_Deidentification_Hard_0.pdf\",\n",
    "]\n",
    "\n",
    "output_pdf_path = \"./sample_result/pretrained/\"\n",
    "\n",
    "df = spark.read.format(\"binaryFile\").load(input_files_to_run)\n",
    "df"
   ]
  },
  {
   "cell_type": "code",
   "execution_count": 13,
   "id": "e0a08f68-11c1-471c-b6b7-d3febde37c5d",
   "metadata": {},
   "outputs": [
    {
     "name": "stderr",
     "output_type": "stream",
     "text": [
      "25/05/27 16:19:47 WARN PDType1Font: Using fallback font LiberationSans for Helvetica-Bold\n",
      "25/05/27 16:19:47 WARN PDType1Font: Using fallback font LiberationSans for Times-Roman\n",
      "25/05/27 16:19:47 WARN PDType1Font: Using fallback font LiberationSans for Times-Bold\n",
      "25/05/27 16:19:47 WARN PDType1Font: Using fallback font LiberationSans for Times-Bold\n",
      "25/05/27 16:19:47 WARN PDType1Font: Using fallback font LiberationSans for Helvetica-Bold\n",
      "25/05/27 16:19:47 WARN PDType1Font: Using fallback font LiberationSans for Times-Roman\n",
      "25/05/27 16:19:47 WARN PDType1Font: Using fallback font LiberationSans for Times-Bold\n",
      "25/05/27 16:19:47 WARN PDType1Font: Using fallback font LiberationSans for Helvetica-Bold\n",
      "25/05/27 16:19:47 WARN PDType1Font: Using fallback font LiberationSans for Times-Roman\n",
      "25/05/27 16:19:49 WARN DAGScheduler: Broadcasting large task binary with size 2.2 MiB\n",
      "25/05/27 16:20:16 WARN DAGScheduler: Broadcasting large task binary with size 1230.2 KiB\n",
      "25/05/27 16:20:18 WARN DAGScheduler: Broadcasting large task binary with size 1156.6 KiB\n",
      "25/05/27 16:20:19 WARN DAGScheduler: Broadcasting large task binary with size 1156.6 KiB\n",
      "25/05/27 16:20:19 WARN DAGScheduler: Broadcasting large task binary with size 1156.6 KiB\n"
     ]
    }
   ],
   "source": [
    "result = pdf_deid_multilingual_name_plus.transform(df)\n",
    "\n",
    "for row in result.select(\"path\", \"pdf\").toLocalIterator():\n",
    "    input_file_name = os.path.basename(row.asDict()[\"path\"]).replace(\".pdf\", \"\")\n",
    "    savename = os.path.join(output_pdf_path, input_file_name + \"_deid_cleaned.pdf\")\n",
    "    pdfFile = open(savename, \"wb\")\n",
    "    pdfFile.write(row.asDict()[\"pdf\"])\n",
    "    pdfFile.close()"
   ]
  },
  {
   "cell_type": "markdown",
   "id": "d86ce1a5-0226-486e-8140-25d879327bf6",
   "metadata": {},
   "source": [
    "<h2>Obfuscation Pretrained Pipelines</h2>"
   ]
  },
  {
   "cell_type": "code",
   "execution_count": 15,
   "id": "fbaa0b3c-2a9c-4072-acec-7623aa33bf32",
   "metadata": {},
   "outputs": [
    {
     "name": "stdout",
     "output_type": "stream",
     "text": [
      "pdf_obfuscation_multi_model_context_pipeline download started this may take some time.\n",
      "Approx size to download 4.4 GB\n",
      "[ | ]"
     ]
    },
    {
     "name": "stderr",
     "output_type": "stream",
     "text": [
      "25/05/27 16:27:58 WARN S3AbortableInputStream: Not all bytes were read from the S3ObjectInputStream, aborting HTTP connection. This is likely an error and may result in sub-optimal behavior. Request only the bytes you need via a ranged GET or drain the input stream after use.\n"
     ]
    },
    {
     "name": "stdout",
     "output_type": "stream",
     "text": [
      "[OK!]\n"
     ]
    },
    {
     "data": {
      "text/plain": [
       "[PdfToImage_3039dbc55d70,\n",
       " ImageToText_e47a60ca0cbf,\n",
       " DocumentAssembler_47aaa7f19fed,\n",
       " SentenceDetectorDLModel_6bafc4746ea5,\n",
       " REGEX_TOKENIZER_e1689c9bc262,\n",
       " WORD_EMBEDDINGS_MODEL_9004b1d00302,\n",
       " MedicalNerModel_9d4a08b1c03d,\n",
       " NerConverter_f230dec390db,\n",
       " CONTEXTUAL-PARSER_c654a34a3fa4,\n",
       " CONTEXTUAL-PARSER_33af26b2fdc0,\n",
       " CONTEXTUAL-PARSER_1b2769552347,\n",
       " CONTEXTUAL-PARSER_07bff3c2b284,\n",
       " CONTEXTUAL-PARSER_96b9d29769eb,\n",
       " CONTEXTUAL-PARSER_7aefd98e984c,\n",
       " ENTITY_EXTRACTOR_2ddfc4744b44,\n",
       " CONTEXTUAL-PARSER_99792b93398d,\n",
       " REGEX_MATCHER_2b137485db5e,\n",
       " CONTEXTUAL-PARSER_30dc43a095c1,\n",
       " CONTEXTUAL-PARSER_f64d354f0266,\n",
       " CONTEXTUAL-PARSER_72e20622d44a,\n",
       " CONTEXTUAL-PARSER_563cfd5f905d,\n",
       " REGEX_MATCHER_52d38a3643c9,\n",
       " MERGE_b0a322ec2787,\n",
       " MERGE_97a646c7a333,\n",
       " XLM_ROBERTA_EMBEDDINGS_b8a75c006754,\n",
       " MedicalNerModel_59183c57aedb,\n",
       " NER_CONVERTER_c48b64fa3415,\n",
       " PretrainedZeroShotNER_ca8c4dfe310f,\n",
       " NER_CONVERTER_1e400595b6da,\n",
       " PretrainedZeroShotNER_5f30ab9002f1,\n",
       " NER_CONVERTER_2eba5de8da64,\n",
       " MERGE_107935ba3a49,\n",
       " DE-IDENTIFICATION_4d0b72c7a109,\n",
       " NerOutputCleaner_183775c7791f,\n",
       " PositionFinder_9b5a3cacd9dc,\n",
       " ImageDrawRegions_8220b7f69af2,\n",
       " ImageToPdf_1d5e54f56c69]"
      ]
     },
     "execution_count": 15,
     "metadata": {},
     "output_type": "execute_result"
    }
   ],
   "source": [
    "pdf_obfuscation_multi_model_context_pipeline = PretrainedPipeline(\"pdf_obfuscation_multi_model_context_pipeline\", \"en\", \"clinical/ocr\")\n",
    "\n",
    "pdf_obfuscation_multi_model_context_pipeline.model.stages"
   ]
  },
  {
   "cell_type": "code",
   "execution_count": 26,
   "id": "e886d736-b4ad-48be-b09a-267a3d3a16b9",
   "metadata": {},
   "outputs": [
    {
     "name": "stderr",
     "output_type": "stream",
     "text": [
      "                                                                                \r"
     ]
    },
    {
     "data": {
      "text/html": [
       "<table border='1'>\n",
       "<tr><th>path</th><th>modificationTime</th><th>length</th><th>content</th></tr>\n",
       "<tr><td>file:/workspace/p...</td><td>2025-05-27 16:00:05</td><td>29492</td><td>[25 50 44 46 2D 3...</td></tr>\n",
       "</table>\n"
      ],
      "text/plain": [
       "+--------------------+-------------------+------+--------------------+\n",
       "|                path|   modificationTime|length|             content|\n",
       "+--------------------+-------------------+------+--------------------+\n",
       "|file:/workspace/p...|2025-05-27 16:00:05| 29492|[25 50 44 46 2D 3...|\n",
       "+--------------------+-------------------+------+--------------------+"
      ]
     },
     "execution_count": 26,
     "metadata": {},
     "output_type": "execute_result"
    }
   ],
   "source": [
    "input_pdf_path = \"./PDF_Original/Easy/PDF_Deid_Deidentification_0.pdf\"\n",
    "output_pdf_path = \"./sample_result/pretrained/\"\n",
    "\n",
    "# load pdf file \n",
    "df = spark.read.format(\"binaryFile\").load(input_pdf_path)\n",
    "df"
   ]
  },
  {
   "cell_type": "code",
   "execution_count": 27,
   "id": "b71cd738-e035-491d-94ed-cf6ba19e74e4",
   "metadata": {},
   "outputs": [
    {
     "name": "stderr",
     "output_type": "stream",
     "text": [
      "25/05/27 16:35:44 WARN PDType1Font: Using fallback font LiberationSans for Times-Bold\n",
      "25/05/27 16:35:44 WARN PDType1Font: Using fallback font LiberationSans for Times-Bold\n",
      "25/05/27 16:35:44 WARN PDType1Font: Using fallback font LiberationSans for Helvetica-Bold\n",
      "25/05/27 16:35:44 WARN PDType1Font: Using fallback font LiberationSans for Helvetica-Bold\n",
      "25/05/27 16:35:44 WARN PDType1Font: Using fallback font LiberationSans for Times-Roman\n",
      "25/05/27 16:35:44 WARN PDType1Font: Using fallback font LiberationSans for Times-Roman\n",
      "25/05/27 16:35:44 WARN PDType1Font: Using fallback font LiberationSans for Helvetica-Bold\n",
      "25/05/27 16:35:44 WARN PDType1Font: Using fallback font LiberationSans for Times-Roman\n",
      "25/05/27 16:35:44 WARN PDType1Font: Using fallback font LiberationSans for Times-Bold\n",
      "25/05/27 16:35:44 WARN DAGScheduler: Broadcasting large task binary with size 1814.7 KiB\n",
      "25/05/27 16:36:05 WARN DAGScheduler: Broadcasting large task binary with size 1916.2 KiB\n",
      "25/05/27 16:36:06 WARN DAGScheduler: Broadcasting large task binary with size 1825.8 KiB\n"
     ]
    }
   ],
   "source": [
    "result = pdf_obfuscation_multi_model_context_pipeline.transform(df)\n",
    "\n",
    "for row in result.select(\"path\", \"pdf\").toLocalIterator():\n",
    "    input_file_name = os.path.basename(row.asDict()[\"path\"]).replace(\".pdf\", \"\")\n",
    "    savename = os.path.join(output_pdf_path, input_file_name + \"_obfuscated_cleaned.pdf\")\n",
    "    pdfFile = open(savename, \"wb\")\n",
    "    pdfFile.write(row.asDict()[\"pdf\"])\n",
    "    pdfFile.close()"
   ]
  },
  {
   "cell_type": "code",
   "execution_count": 29,
   "id": "0a2f032c-39c8-4524-8d3b-823951ef9e68",
   "metadata": {},
   "outputs": [
    {
     "name": "stdout",
     "output_type": "stream",
     "text": [
      "pdf_obfuscate_multilingual_name_plus download started this may take some time.\n",
      "Approx size to download 3.8 GB\n",
      "[ | ]"
     ]
    },
    {
     "name": "stderr",
     "output_type": "stream",
     "text": [
      "25/05/27 16:42:32 WARN S3AbortableInputStream: Not all bytes were read from the S3ObjectInputStream, aborting HTTP connection. This is likely an error and may result in sub-optimal behavior. Request only the bytes you need via a ranged GET or drain the input stream after use.\n"
     ]
    },
    {
     "name": "stdout",
     "output_type": "stream",
     "text": [
      "[OK!]\n"
     ]
    },
    {
     "data": {
      "text/plain": [
       "[PdfToImage_14122ccf67b6,\n",
       " ImageToText_eed07825764d,\n",
       " DocumentAssembler_49d9b6a09dc5,\n",
       " SentenceDetectorDLModel_c83c27f46b97,\n",
       " REGEX_TOKENIZER_c2accb5524f2,\n",
       " PretrainedZeroShotNER_ca8c4dfe310f,\n",
       " NER_CONVERTER_0aac6f98b0c3,\n",
       " WORD_EMBEDDINGS_MODEL_9004b1d00302,\n",
       " MedicalNerModel_ada39ac0d359,\n",
       " NER_CONVERTER_95d4db8e7c98,\n",
       " XLM_ROBERTA_EMBEDDINGS_b8a75c006754,\n",
       " MedicalNerModel_59183c57aedb,\n",
       " NER_CONVERTER_4f0c1ff5bd22,\n",
       " CONTEXTUAL-PARSER_100152bbc72d,\n",
       " ChunkConverter_07ed9bf472d8,\n",
       " MERGE_8e521a48482a,\n",
       " DE-IDENTIFICATION_17861617b2f9,\n",
       " NerOutputCleaner_c20beb8d5394,\n",
       " PositionFinder_cb89dcf21399,\n",
       " ImageDrawRegions_a466e6d8f79d,\n",
       " ImageToPdf_2caf20d9efd7]"
      ]
     },
     "execution_count": 29,
     "metadata": {},
     "output_type": "execute_result"
    }
   ],
   "source": [
    "pdf_obfuscate_multilingual_name_plus = PretrainedPipeline(\"pdf_obfuscate_multilingual_name_plus\", \"en\", \"clinical/ocr\")\n",
    "\n",
    "pdf_obfuscate_multilingual_name_plus.model.stages"
   ]
  },
  {
   "cell_type": "code",
   "execution_count": 32,
   "id": "68e247fb-d64e-4408-91d2-c3fb26ff7c5c",
   "metadata": {},
   "outputs": [
    {
     "name": "stderr",
     "output_type": "stream",
     "text": [
      "                                                                                \r"
     ]
    },
    {
     "data": {
      "text/html": [
       "<table border='1'>\n",
       "<tr><th>path</th><th>modificationTime</th><th>length</th><th>content</th></tr>\n",
       "<tr><td>file:/workspace/p...</td><td>2025-05-27 16:00:05</td><td>29221</td><td>[25 50 44 46 2D 3...</td></tr>\n",
       "</table>\n"
      ],
      "text/plain": [
       "+--------------------+-------------------+------+--------------------+\n",
       "|                path|   modificationTime|length|             content|\n",
       "+--------------------+-------------------+------+--------------------+\n",
       "|file:/workspace/p...|2025-05-27 16:00:05| 29221|[25 50 44 46 2D 3...|\n",
       "+--------------------+-------------------+------+--------------------+"
      ]
     },
     "execution_count": 32,
     "metadata": {},
     "output_type": "execute_result"
    }
   ],
   "source": [
    "input_pdf_path = \"./PDF_Original/Easy/PDF_Deid_Deidentification_1.pdf\"\n",
    "output_pdf_path = \"./sample_result/pretrained/\"\n",
    "\n",
    "df = spark.read.format(\"binaryFile\").load(input_pdf_path)\n",
    "df"
   ]
  },
  {
   "cell_type": "code",
   "execution_count": 33,
   "id": "ed819147-86f5-4ff9-878a-11e492f9997d",
   "metadata": {},
   "outputs": [
    {
     "name": "stderr",
     "output_type": "stream",
     "text": [
      "25/05/27 16:44:58 WARN PDType1Font: Using fallback font LiberationSans for Helvetica-Bold\n",
      "25/05/27 16:44:58 WARN PDType1Font: Using fallback font LiberationSans for Times-Roman\n",
      "25/05/27 16:44:58 WARN PDType1Font: Using fallback font LiberationSans for Times-Bold\n",
      "25/05/27 16:44:58 WARN PDType1Font: Using fallback font LiberationSans for Times-Bold\n",
      "25/05/27 16:44:58 WARN PDType1Font: Using fallback font LiberationSans for Helvetica-Bold\n",
      "25/05/27 16:44:58 WARN PDType1Font: Using fallback font LiberationSans for Times-Roman\n",
      "25/05/27 16:44:58 WARN PDType1Font: Using fallback font LiberationSans for Times-Bold\n",
      "25/05/27 16:44:58 WARN PDType1Font: Using fallback font LiberationSans for Helvetica-Bold\n",
      "25/05/27 16:44:58 WARN PDType1Font: Using fallback font LiberationSans for Times-Roman\n",
      "25/05/27 16:44:58 WARN DAGScheduler: Broadcasting large task binary with size 2.2 MiB\n",
      "[Stage 714:===========================================>           (11 + 3) / 14]\r"
     ]
    },
    {
     "name": "stdout",
     "output_type": "stream",
     "text": [
      "Using CPUs\n"
     ]
    },
    {
     "name": "stderr",
     "output_type": "stream",
     "text": [
      "25/05/27 16:45:12 WARN DAGScheduler: Broadcasting large task binary with size 1249.8 KiB\n",
      "25/05/27 16:45:13 WARN DAGScheduler: Broadcasting large task binary with size 1157.2 KiB\n"
     ]
    }
   ],
   "source": [
    "result = pdf_obfuscate_multilingual_name_plus.transform(df)\n",
    "\n",
    "for row in result.select(\"path\", \"pdf\").toLocalIterator():\n",
    "    input_file_name = os.path.basename(row.asDict()[\"path\"]).replace(\".pdf\", \"\")\n",
    "    savename = os.path.join(output_pdf_path, input_file_name + \"_obfuscated_cleaned.pdf\")\n",
    "    pdfFile = open(savename, \"wb\")\n",
    "    pdfFile.write(row.asDict()[\"pdf\"])\n",
    "    pdfFile.close()"
   ]
  }
 ],
 "metadata": {
  "kernelspec": {
   "display_name": "Python 3 (ipykernel)",
   "language": "python",
   "name": "python3"
  },
  "language_info": {
   "codemirror_mode": {
    "name": "ipython",
    "version": 3
   },
   "file_extension": ".py",
   "mimetype": "text/x-python",
   "name": "python",
   "nbconvert_exporter": "python",
   "pygments_lexer": "ipython3",
   "version": "3.11.10"
  }
 },
 "nbformat": 4,
 "nbformat_minor": 5
}
